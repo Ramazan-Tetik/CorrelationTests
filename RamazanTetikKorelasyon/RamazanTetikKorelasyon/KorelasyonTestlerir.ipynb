{
 "cells": [
  {
   "cell_type": "markdown",
   "id": "4990690f-a369-4b9c-a729-1648bd1570cf",
   "metadata": {},
   "source": [
    "# Korelasyon Testleri\n",
    "- Bu bölümde, iki örneğin ilişkili olup olmadığını kontrol etmek için kullanabileceğiniz istatistiksel testler listelenmektedir.\n",
    "- Parametrik bir testtir.\n",
    "- Normal dağılım şartı vardır.\n",
    "- #### Kullanılacak Korelasyon Testleri\n",
    "- Pearson Korelasyon Katsayısı\n",
    "- Spearman'ın Sıra Korelasyonu\n",
    "- Kendall'ın Sıra Korelasyonu\n",
    "- Ki-Kare Testi"
   ]
  },
  {
   "cell_type": "markdown",
   "id": "f8df837f-4d26-4758-b5ec-588f3437c7e1",
   "metadata": {},
   "source": [
    "## 1)Pearson Korelasyon Katsayısı\n",
    "- Pearson korelasyon katsayısı veya Pearson's r istatistikte iki değişken arasındaki ilişkinin gücünün ve birbirleriyle olan ilişkilerinin ölçümü olarak tanımlanır. "
   ]
  },
  {
   "cell_type": "code",
   "execution_count": 9,
   "id": "c4f6fd7b-1484-4a63-8645-841ddfe1945a",
   "metadata": {},
   "outputs": [],
   "source": [
    "import pandas as pd\n",
    "import scipy.stats as stats\n",
    "import matplotlib.pyplot as plt\n",
    "import numpy as np\n",
    "import seaborn as sns"
   ]
  },
  {
   "cell_type": "code",
   "execution_count": 14,
   "id": "35d165c8-7dae-4c63-bdb5-5ef4f000e13e",
   "metadata": {},
   "outputs": [
    {
     "data": {
      "text/html": [
       "<div>\n",
       "<style scoped>\n",
       "    .dataframe tbody tr th:only-of-type {\n",
       "        vertical-align: middle;\n",
       "    }\n",
       "\n",
       "    .dataframe tbody tr th {\n",
       "        vertical-align: top;\n",
       "    }\n",
       "\n",
       "    .dataframe thead th {\n",
       "        text-align: right;\n",
       "    }\n",
       "</style>\n",
       "<table border=\"1\" class=\"dataframe\">\n",
       "  <thead>\n",
       "    <tr style=\"text-align: right;\">\n",
       "      <th></th>\n",
       "      <th>Id</th>\n",
       "      <th>Mounths</th>\n",
       "      <th>PM10 in æg/m3</th>\n",
       "      <th>SO2 in æg/m3</th>\n",
       "      <th>NOx  in æg/m3</th>\n",
       "      <th>PM2.5  in æg/m3</th>\n",
       "      <th>Ammonia - NH3  in æg/m3</th>\n",
       "      <th>O3   in æg/m3</th>\n",
       "      <th>CO  in mg/m3</th>\n",
       "      <th>Benzene  in æg/m3</th>\n",
       "      <th>AQI</th>\n",
       "    </tr>\n",
       "  </thead>\n",
       "  <tbody>\n",
       "    <tr>\n",
       "      <th>0</th>\n",
       "      <td>1</td>\n",
       "      <td>Jan-17</td>\n",
       "      <td>174.0</td>\n",
       "      <td>26.4</td>\n",
       "      <td>35.0</td>\n",
       "      <td>79</td>\n",
       "      <td>25.0</td>\n",
       "      <td>107.6</td>\n",
       "      <td>0.9</td>\n",
       "      <td>0.7</td>\n",
       "      <td>149.0</td>\n",
       "    </tr>\n",
       "    <tr>\n",
       "      <th>1</th>\n",
       "      <td>2</td>\n",
       "      <td>Feb-17</td>\n",
       "      <td>143.0</td>\n",
       "      <td>35.1</td>\n",
       "      <td>40.3</td>\n",
       "      <td>75</td>\n",
       "      <td>31.0</td>\n",
       "      <td>103.0</td>\n",
       "      <td>0.9</td>\n",
       "      <td>0.9</td>\n",
       "      <td>129.0</td>\n",
       "    </tr>\n",
       "  </tbody>\n",
       "</table>\n",
       "</div>"
      ],
      "text/plain": [
       "   Id Mounths  PM10 in æg/m3  SO2 in æg/m3  NOx  in æg/m3   PM2.5  in æg/m3  \\\n",
       "0   1  Jan-17          174.0          26.4           35.0                79   \n",
       "1   2  Feb-17          143.0          35.1           40.3                75   \n",
       "\n",
       "   Ammonia - NH3  in æg/m3  O3   in æg/m3  CO  in mg/m3   Benzene  in æg/m3  \\\n",
       "0                     25.0          107.6           0.9                 0.7   \n",
       "1                     31.0          103.0           0.9                 0.9   \n",
       "\n",
       "     AQI  \n",
       "0  149.0  \n",
       "1  129.0  "
      ]
     },
     "execution_count": 14,
     "metadata": {},
     "output_type": "execute_result"
    }
   ],
   "source": [
    "#Normallik testinde normal dağılıma sahip çıkan air quality data setini kullanacağım.\n",
    "#Hyderabad'taki Hava Kalitesi: Kirlilik Analizi veri seti ile çalışalım\n",
    "df = pd.read_csv(\"AQI Data Set.csv\")\n",
    "df.head(2)"
   ]
  },
  {
   "cell_type": "markdown",
   "id": "cd03337d-3038-46ce-b5fc-f765ed234112",
   "metadata": {},
   "source": [
    "**Soru 1:** Azot oksitlerin (NOx) konsantrasyonu ile hava kalitesi endeksi (AQI) arasındaki ilişki nedir? Bu iki değişken arasında anlamlı bir doğrusal ilişki var mı? **alpha=0.05**"
   ]
  },
  {
   "cell_type": "markdown",
   "id": "9f508277-0a03-46bb-83a4-7f55b30a91e7",
   "metadata": {},
   "source": [
    "- **H0:** AQI ile NOx arasında anlamlı bir doğrusal ilişki yoktur. (Pearson korelasyon katsayısı 0'dır)\n",
    "- **H1:** AQI ile NOx arasında anlamlı bir doğrusal ilişki vardır. (Pearson korelasyon katsayısı 0'dan farklıdır)"
   ]
  },
  {
   "cell_type": "code",
   "execution_count": 68,
   "id": "123d42c1-5b62-4a7d-acef-0aa30c33d3a1",
   "metadata": {},
   "outputs": [],
   "source": [
    "df=df.dropna()"
   ]
  },
  {
   "cell_type": "code",
   "execution_count": 70,
   "id": "bfb5e8d3-4b86-4c3d-95df-b8391426250c",
   "metadata": {},
   "outputs": [
    {
     "data": {
      "text/plain": [
       "Id                         0\n",
       "Mounths                    0\n",
       "PM10 in æg/m3              0\n",
       "SO2 in æg/m3               0\n",
       "NOx  in æg/m3              0\n",
       " PM2.5  in æg/m3           0\n",
       "Ammonia - NH3  in æg/m3    0\n",
       "O3   in æg/m3              0\n",
       "CO  in mg/m3               0\n",
       " Benzene  in æg/m3         0\n",
       "AQI                        0\n",
       "dtype: int64"
      ]
     },
     "execution_count": 70,
     "metadata": {},
     "output_type": "execute_result"
    }
   ],
   "source": [
    "df.isnull().sum()"
   ]
  },
  {
   "cell_type": "code",
   "execution_count": 72,
   "id": "c8fbd467-9003-4999-b7b8-81125051587c",
   "metadata": {},
   "outputs": [],
   "source": [
    "#AQI (Air Quality Index): Hava kalitesini ölçen bir endeks.\n",
    "#NOx (Nitrogen Oxides): Hava kirliliğinde önemli bir rol oynayan azot oksitleri.\n",
    "#İkisi de normal dağılımdadır.\n",
    "AQI = df['AQI']\n",
    "Nox = df[\"NOx  in æg/m3\"]"
   ]
  },
  {
   "cell_type": "code",
   "execution_count": 76,
   "id": "11fbd36f-5f63-4eec-82fe-7d2488cc22e5",
   "metadata": {},
   "outputs": [
    {
     "name": "stdout",
     "output_type": "stream",
     "text": [
      "stat=0.255, p=0.038\n",
      "H1 hipotezi kabul edilir.AQI ile NOx arasında anlamlı bir doğrusal ilişki vardır.\n"
     ]
    }
   ],
   "source": [
    "from scipy.stats import pearsonr\n",
    "stat, p = pearsonr(AQI, Nox)\n",
    "print('stat=%.3f, p=%.3f' % (stat, p))\n",
    "if p > 0.05:\n",
    " print('H0 hipotezi kabul edilir.AQI ile NOx arasında anlamlı bir doğrusal ilişki yoktur.')\n",
    "else:\n",
    " print('H1 hipotezi kabul edilir.AQI ile NOx arasında anlamlı bir doğrusal ilişki vardır.')"
   ]
  },
  {
   "cell_type": "markdown",
   "id": "8f684721-7f2f-47e9-a5bc-bd2aa741a762",
   "metadata": {},
   "source": [
    "## 2) Spearman Sıra Korelasyon Katsayısı\n",
    "- Parametrik değildir.\n",
    "- Spearman korelasyon analizi, normal dağılım koşulunu gerektirmez.\n",
    "- İstatistik analizi uygulamalarında verilerimiz nicel veya sıralayıcı (ordinal) ölçeğe sahip olduğunda Spearman korelasyon analizine başvurabiliriz."
   ]
  },
  {
   "cell_type": "code",
   "execution_count": 86,
   "id": "32116b50-416b-448c-878d-144db3180d4b",
   "metadata": {},
   "outputs": [
    {
     "data": {
      "text/html": [
       "<div>\n",
       "<style scoped>\n",
       "    .dataframe tbody tr th:only-of-type {\n",
       "        vertical-align: middle;\n",
       "    }\n",
       "\n",
       "    .dataframe tbody tr th {\n",
       "        vertical-align: top;\n",
       "    }\n",
       "\n",
       "    .dataframe thead th {\n",
       "        text-align: right;\n",
       "    }\n",
       "</style>\n",
       "<table border=\"1\" class=\"dataframe\">\n",
       "  <thead>\n",
       "    <tr style=\"text-align: right;\">\n",
       "      <th></th>\n",
       "      <th>gender</th>\n",
       "      <th>race/ethnicity</th>\n",
       "      <th>parental level of education</th>\n",
       "      <th>lunch</th>\n",
       "      <th>test preparation course</th>\n",
       "      <th>math score</th>\n",
       "      <th>reading score</th>\n",
       "      <th>writing score</th>\n",
       "    </tr>\n",
       "  </thead>\n",
       "  <tbody>\n",
       "    <tr>\n",
       "      <th>0</th>\n",
       "      <td>female</td>\n",
       "      <td>group D</td>\n",
       "      <td>some college</td>\n",
       "      <td>standard</td>\n",
       "      <td>completed</td>\n",
       "      <td>59</td>\n",
       "      <td>70</td>\n",
       "      <td>78</td>\n",
       "    </tr>\n",
       "    <tr>\n",
       "      <th>1</th>\n",
       "      <td>male</td>\n",
       "      <td>group D</td>\n",
       "      <td>associate's degree</td>\n",
       "      <td>standard</td>\n",
       "      <td>none</td>\n",
       "      <td>96</td>\n",
       "      <td>93</td>\n",
       "      <td>87</td>\n",
       "    </tr>\n",
       "  </tbody>\n",
       "</table>\n",
       "</div>"
      ],
      "text/plain": [
       "   gender race/ethnicity parental level of education     lunch  \\\n",
       "0  female        group D                some college  standard   \n",
       "1    male        group D          associate's degree  standard   \n",
       "\n",
       "  test preparation course  math score  reading score  writing score  \n",
       "0               completed          59             70             78  \n",
       "1                    none          96             93             87  "
      ]
     },
     "execution_count": 86,
     "metadata": {},
     "output_type": "execute_result"
    }
   ],
   "source": [
    "#Öğrenci performans tahmini\n",
    "df = pd.read_csv(\"exams.csv\")\n",
    "df.head(2)"
   ]
  },
  {
   "cell_type": "markdown",
   "id": "a4dd043f-df65-481f-916a-ed541d22b1b3",
   "metadata": {},
   "source": [
    "**Soru 2 :** Matematik Notu (math score) ve Okuma Notu (reading score) arasındaki ilişki miktarını ve yönünü\n",
    "0,05 anlamlılık düzeyinde araştırın.\n",
    "- **H0:** Matematik Notu (math score) ve Okuma Notu (reading score) arasında anlamlı bir ilişki yoktur.\n",
    "- **H1:** Matematik Notu (math score) ve Okuma Notu (reading score) arasında anlamlı bir ilişki vardır."
   ]
  },
  {
   "cell_type": "code",
   "execution_count": 99,
   "id": "d3165895-d9d0-407e-bc8c-0d85e1a9bb43",
   "metadata": {},
   "outputs": [
    {
     "name": "stdout",
     "output_type": "stream",
     "text": [
      "stat=0.803, p=0.000\n",
      "Matematik Notu (math score) ve Okuma Notu (reading score) arasında anlamlı bir ilişki vardır.\n"
     ]
    }
   ],
   "source": [
    "from scipy.stats import spearmanr\n",
    "stat, p = spearmanr(df[\"math score\"], df[\"reading score\"])\n",
    "print('stat=%.3f, p=%.3f' % (stat, p))\n",
    "if p > 0.05:\n",
    " print('H0 kabul edilir.Matematik Notu (math score) ve Okuma Notu (reading score) arasında anlamlı bir ilişki yoktur.')\n",
    "else:\n",
    " print('H1 kabul edilir.Matematik Notu (math score) ve Okuma Notu (reading score) arasında anlamlı bir ilişki vardır.')"
   ]
  },
  {
   "cell_type": "markdown",
   "id": "51b7b981-60d9-4ac6-b24c-7a37197bf66c",
   "metadata": {},
   "source": [
    "**Soru 3 :** Yazma Notu (writing score) ve Okuma Notu (reading score) arasındaki ilişki miktarını ve yönünü\n",
    "0,05 anlamlılık düzeyinde araştırın.\n",
    "- **H0:** Yazma Notu (writing score) ve Okuma Notu (reading score) arasında anlamlı bir ilişki yoktur.\n",
    "- **H1:** Yazma Notu (writing score) ve Okuma Notu (reading score) arasında anlamlı bir ilişki vardır."
   ]
  },
  {
   "cell_type": "code",
   "execution_count": 107,
   "id": "b7316815-537a-4c5d-84d2-bc2ffef0e125",
   "metadata": {},
   "outputs": [
    {
     "name": "stdout",
     "output_type": "stream",
     "text": [
      "stat=0.945, p=0.000\n",
      "H1 kabul edilir.Yazma Notu (writing score) ve Okuma Notu (reading score) arasında anlamlı bir ilişki vardır.\n"
     ]
    }
   ],
   "source": [
    "from scipy.stats import spearmanr\n",
    "stat, p = spearmanr(df[\"writing score\"], df[\"reading score\"])\n",
    "print('stat=%.3f, p=%.3f' % (stat, p))\n",
    "if p > 0.05:\n",
    " print('H0 kabul edilir.Yazma Notu (writing score) ve Okuma Notu (reading score) arasında anlamlı bir ilişki yoktur.')\n",
    "else:\n",
    " print('H1 kabul edilir.Yazma Notu (writing score) ve Okuma Notu (reading score) arasında anlamlı bir ilişki vardır.')"
   ]
  },
  {
   "cell_type": "markdown",
   "id": "afd15e95-0579-450e-b1f5-09abdb5aa723",
   "metadata": {},
   "source": [
    "## 3)Kendall'ın Sıra Korelasyonu\n",
    "- Kendall'ın Tau korelasyon katsayısı, değişkenler arasındaki sıralı ilişkiyi ölçer.\n",
    "- Parametrik değildir."
   ]
  },
  {
   "cell_type": "code",
   "execution_count": 116,
   "id": "a9524b24-d4fd-451f-866a-9cdff5142961",
   "metadata": {},
   "outputs": [
    {
     "data": {
      "text/html": [
       "<div>\n",
       "<style scoped>\n",
       "    .dataframe tbody tr th:only-of-type {\n",
       "        vertical-align: middle;\n",
       "    }\n",
       "\n",
       "    .dataframe tbody tr th {\n",
       "        vertical-align: top;\n",
       "    }\n",
       "\n",
       "    .dataframe thead th {\n",
       "        text-align: right;\n",
       "    }\n",
       "</style>\n",
       "<table border=\"1\" class=\"dataframe\">\n",
       "  <thead>\n",
       "    <tr style=\"text-align: right;\">\n",
       "      <th></th>\n",
       "      <th>id</th>\n",
       "      <th>age</th>\n",
       "      <th>sex</th>\n",
       "      <th>dataset</th>\n",
       "      <th>cp</th>\n",
       "      <th>trestbps</th>\n",
       "      <th>chol</th>\n",
       "      <th>fbs</th>\n",
       "      <th>restecg</th>\n",
       "      <th>thalch</th>\n",
       "      <th>exang</th>\n",
       "      <th>oldpeak</th>\n",
       "      <th>slope</th>\n",
       "      <th>ca</th>\n",
       "      <th>thal</th>\n",
       "      <th>num</th>\n",
       "    </tr>\n",
       "  </thead>\n",
       "  <tbody>\n",
       "    <tr>\n",
       "      <th>0</th>\n",
       "      <td>1</td>\n",
       "      <td>63</td>\n",
       "      <td>Male</td>\n",
       "      <td>Cleveland</td>\n",
       "      <td>typical angina</td>\n",
       "      <td>145.0</td>\n",
       "      <td>233.0</td>\n",
       "      <td>True</td>\n",
       "      <td>lv hypertrophy</td>\n",
       "      <td>150.0</td>\n",
       "      <td>False</td>\n",
       "      <td>2.3</td>\n",
       "      <td>downsloping</td>\n",
       "      <td>0.0</td>\n",
       "      <td>fixed defect</td>\n",
       "      <td>0</td>\n",
       "    </tr>\n",
       "    <tr>\n",
       "      <th>1</th>\n",
       "      <td>2</td>\n",
       "      <td>67</td>\n",
       "      <td>Male</td>\n",
       "      <td>Cleveland</td>\n",
       "      <td>asymptomatic</td>\n",
       "      <td>160.0</td>\n",
       "      <td>286.0</td>\n",
       "      <td>False</td>\n",
       "      <td>lv hypertrophy</td>\n",
       "      <td>108.0</td>\n",
       "      <td>True</td>\n",
       "      <td>1.5</td>\n",
       "      <td>flat</td>\n",
       "      <td>3.0</td>\n",
       "      <td>normal</td>\n",
       "      <td>2</td>\n",
       "    </tr>\n",
       "    <tr>\n",
       "      <th>2</th>\n",
       "      <td>3</td>\n",
       "      <td>67</td>\n",
       "      <td>Male</td>\n",
       "      <td>Cleveland</td>\n",
       "      <td>asymptomatic</td>\n",
       "      <td>120.0</td>\n",
       "      <td>229.0</td>\n",
       "      <td>False</td>\n",
       "      <td>lv hypertrophy</td>\n",
       "      <td>129.0</td>\n",
       "      <td>True</td>\n",
       "      <td>2.6</td>\n",
       "      <td>flat</td>\n",
       "      <td>2.0</td>\n",
       "      <td>reversable defect</td>\n",
       "      <td>1</td>\n",
       "    </tr>\n",
       "  </tbody>\n",
       "</table>\n",
       "</div>"
      ],
      "text/plain": [
       "   id  age   sex    dataset              cp  trestbps   chol    fbs  \\\n",
       "0   1   63  Male  Cleveland  typical angina     145.0  233.0   True   \n",
       "1   2   67  Male  Cleveland    asymptomatic     160.0  286.0  False   \n",
       "2   3   67  Male  Cleveland    asymptomatic     120.0  229.0  False   \n",
       "\n",
       "          restecg  thalch  exang  oldpeak        slope   ca  \\\n",
       "0  lv hypertrophy   150.0  False      2.3  downsloping  0.0   \n",
       "1  lv hypertrophy   108.0   True      1.5         flat  3.0   \n",
       "2  lv hypertrophy   129.0   True      2.6         flat  2.0   \n",
       "\n",
       "                thal  num  \n",
       "0       fixed defect    0  \n",
       "1             normal    2  \n",
       "2  reversable defect    1  "
      ]
     },
     "execution_count": 116,
     "metadata": {},
     "output_type": "execute_result"
    }
   ],
   "source": [
    "#kalp hastalıkları\n",
    "df = pd.read_csv(\"heart_disease_uci.csv\")\n",
    "df.head(3)"
   ]
  },
  {
   "cell_type": "markdown",
   "id": "0fd24df7-0977-4618-8d2e-54efb2846912",
   "metadata": {},
   "source": [
    "**Soru 4 :** Yaş ile ST depresyonu arasındaki ilişki miktarını ve yönünü\n",
    "0,05 anlamlılık düzeyinde araştırın.\n",
    "- **H0:**  Yaş ile ST depresyonu arasında sıralı bir ilişki yoktur.\n",
    "- **H1:**  Yaş ile ST depresyonu arasında sıralı bir ilişki vardır."
   ]
  },
  {
   "cell_type": "code",
   "execution_count": 120,
   "id": "3e124efa-0cf4-4103-a6c3-58b955c9adda",
   "metadata": {},
   "outputs": [],
   "source": [
    "df=df.dropna()"
   ]
  },
  {
   "cell_type": "code",
   "execution_count": 129,
   "id": "b8e26b57-d053-42ef-9e5b-cae841f26f03",
   "metadata": {},
   "outputs": [
    {
     "name": "stdout",
     "output_type": "stream",
     "text": [
      "stat=0.179, p=0.000\n",
      "H1 kabul edilir.Yaş ile ST depresyonu arasında sıralı bir ilişki vardır.\n"
     ]
    }
   ],
   "source": [
    "from scipy.stats import kendalltau\n",
    "data1 = df[\"age\"]\n",
    "data2 = df[\"oldpeak\"]\n",
    "stat, p = kendalltau(data1, data2)\n",
    "print('stat=%.3f, p=%.3f' % (stat, p))\n",
    "if p > 0.05:\n",
    " print('H0 kabul edilir.Yaş ile ST depresyonu arasında sıralı bir ilişki yoktur.')\n",
    "else:\n",
    " print('H1 kabul edilir.Yaş ile ST depresyonu arasında sıralı bir ilişki vardır.')"
   ]
  },
  {
   "cell_type": "markdown",
   "id": "59c780eb-cdee-45ce-8a98-aaadaf9ab0b0",
   "metadata": {},
   "source": [
    "**Soru 5 :** Yaş ile Kolestrol arasındaki ilişki miktarını ve yönünü\n",
    "0,05 anlamlılık düzeyinde araştırın.\n",
    "- **H0:**  Yaş ile Kolestrol arasında sıralı bir ilişki yoktur.\n",
    "- **H1:**  Yaş ile Kolestrol arasında sıralı bir ilişki vardır."
   ]
  },
  {
   "cell_type": "code",
   "execution_count": 133,
   "id": "5d22229e-32f2-4bf2-933d-9a1cd535ac6b",
   "metadata": {},
   "outputs": [
    {
     "name": "stdout",
     "output_type": "stream",
     "text": [
      "stat=0.127, p=0.001\n",
      "H1 kabul edilir.Yaş ile Kolestrol  arasında sıralı bir ilişki vardır.\n"
     ]
    }
   ],
   "source": [
    "data1 = df[\"age\"]\n",
    "data2 = df[\"chol\"]\n",
    "stat, p = kendalltau(data1, data2)\n",
    "print('stat=%.3f, p=%.3f' % (stat, p))\n",
    "if p > 0.05:\n",
    " print('H0 kabul edilir.Yaş ile Kolestrol  arasında sıralı bir ilişki yoktur.')\n",
    "else:\n",
    " print('H1 kabul edilir.Yaş ile Kolestrol  arasında sıralı bir ilişki vardır.')"
   ]
  },
  {
   "cell_type": "markdown",
   "id": "96133570-042e-42f4-9d28-d8bef6b27711",
   "metadata": {},
   "source": [
    "## 4)Ki-kare Testi\n",
    "- İki kategorik değişkenin ilişkili mi yoksa bağımsız mı olduğunu test eder."
   ]
  },
  {
   "cell_type": "markdown",
   "id": "e2b7e32f-de6d-4414-8af9-d76f29016319",
   "metadata": {},
   "source": [
    "**Soru 6 :**  Cinsiyet ile göğüs ağrısı türü arasındaki ilişki miktarını ve yönünü\n",
    "0,05 anlamlılık düzeyinde araştırın.\n",
    "- **H0:**   Cinsiyet ile göğüs ağrısı türü arasında bir ilişki yoktur.\n",
    "- **H1:**   Cinsiyet ile göğüs ağrısı türü arasında bir ilişki vardır."
   ]
  },
  {
   "cell_type": "code",
   "execution_count": 144,
   "id": "5ca70caf-29bb-41bf-94a4-f1161c0ea017",
   "metadata": {},
   "outputs": [
    {
     "name": "stdout",
     "output_type": "stream",
     "text": [
      "stat=6.991, p=0.072\n",
      "H0 kabul edilir.Cinsiyet ile göğüs ağrısı türü arasında anlamlı bir ilişki yoktur.\n"
     ]
    }
   ],
   "source": [
    "from scipy.stats import chi2_contingency\n",
    "contingency_table = pd.crosstab(df['sex'], df['cp'])\n",
    "stat, p, dof, expected = chi2_contingency(contingency_table)\n",
    "print('stat=%.3f, p=%.3f' % (stat, p))\n",
    "if p > 0.05:\n",
    " print('H0 kabul edilir.Cinsiyet ile göğüs ağrısı türü arasında anlamlı bir ilişki yoktur.')\n",
    "else:\n",
    " print('H0 reddedilir.Cinsiyet ile göğüs ağrısı türü arasında anlamlı bir ilişki vardır.')"
   ]
  }
 ],
 "metadata": {
  "kernelspec": {
   "display_name": "Python 3 (ipykernel)",
   "language": "python",
   "name": "python3"
  },
  "language_info": {
   "codemirror_mode": {
    "name": "ipython",
    "version": 3
   },
   "file_extension": ".py",
   "mimetype": "text/x-python",
   "name": "python",
   "nbconvert_exporter": "python",
   "pygments_lexer": "ipython3",
   "version": "3.12.4"
  }
 },
 "nbformat": 4,
 "nbformat_minor": 5
}
